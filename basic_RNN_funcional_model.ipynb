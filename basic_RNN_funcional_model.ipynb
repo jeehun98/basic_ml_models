{
  "nbformat": 4,
  "nbformat_minor": 0,
  "metadata": {
    "colab": {
      "provenance": [],
      "collapsed_sections": []
    },
    "kernelspec": {
      "name": "python3",
      "display_name": "Python 3"
    },
    "language_info": {
      "name": "python"
    }
  },
  "cells": [
    {
      "cell_type": "code",
      "execution_count": null,
      "metadata": {
        "id": "Xb_Yy1AZkoxw"
      },
      "outputs": [],
      "source": [
        "import numpy as np\n",
        "from keras.models import Sequential\n",
        "from keras.layers import Dense, Activation, Dropout, Input\n",
        "from keras.layers import Conv2D, MaxPooling2D, Flatten\n",
        "from keras.utils import to_categorical, plot_model\n",
        "from keras.datasets import mnist\n",
        "from keras.models import Model"
      ]
    },
    {
      "cell_type": "code",
      "source": [
        "(x_train, y_train), (x_test, y_test) = mnist.load_data()"
      ],
      "metadata": {
        "id": "X7lu6Go4gFf0",
        "colab": {
          "base_uri": "https://localhost:8080/"
        },
        "outputId": "166143c7-34f6-45cc-e096-30ef50cb653f"
      },
      "execution_count": null,
      "outputs": [
        {
          "output_type": "stream",
          "name": "stdout",
          "text": [
            "Downloading data from https://storage.googleapis.com/tensorflow/tf-keras-datasets/mnist.npz\n",
            "11490434/11490434 [==============================] - 0s 0us/step\n"
          ]
        }
      ]
    },
    {
      "cell_type": "markdown",
      "source": [
        "레이블 개수 계산"
      ],
      "metadata": {
        "id": "tppYZiUkkoxy"
      }
    },
    {
      "cell_type": "code",
      "source": [
        "num_labels = len(np.unique(y_train))\n",
        "num_labels"
      ],
      "metadata": {
        "colab": {
          "base_uri": "https://localhost:8080/"
        },
        "outputId": "1ee40052-9fa4-4598-9577-861b8551b111",
        "id": "ZqmPB_MOkoxz"
      },
      "execution_count": null,
      "outputs": [
        {
          "output_type": "execute_result",
          "data": {
            "text/plain": [
              "10"
            ]
          },
          "metadata": {},
          "execution_count": 3
        }
      ]
    },
    {
      "cell_type": "markdown",
      "source": [
        "원-핫 벡터로 변환"
      ],
      "metadata": {
        "id": "p_ykhko1gZkl"
      }
    },
    {
      "cell_type": "code",
      "source": [
        "y_train = to_categorical(y_train)\n",
        "y_test = to_categorical(y_test)"
      ],
      "metadata": {
        "id": "9rhJQ4KJgLZs"
      },
      "execution_count": null,
      "outputs": []
    },
    {
      "cell_type": "markdown",
      "source": [
        "이미지 차원"
      ],
      "metadata": {
        "id": "a10RGyfyhhw-"
      }
    },
    {
      "cell_type": "code",
      "source": [
        "image_size = x_train.shape[1]\n",
        "image_size"
      ],
      "metadata": {
        "colab": {
          "base_uri": "https://localhost:8080/"
        },
        "id": "WXwft5Ltg7KV",
        "outputId": "0ec9bcf7-1bff-43f8-842e-a8d3b57d2be1"
      },
      "execution_count": null,
      "outputs": [
        {
          "output_type": "execute_result",
          "data": {
            "text/plain": [
              "28"
            ]
          },
          "metadata": {},
          "execution_count": 5
        }
      ]
    },
    {
      "cell_type": "markdown",
      "source": [
        "크기 조정, 정규화"
      ],
      "metadata": {
        "id": "hyXPk790hx95"
      }
    },
    {
      "cell_type": "code",
      "source": [
        "x_train = np.reshape(x_train, [-1, image_size, image_size, 1])\n",
        "x_test = np.reshape(x_test, [-1, image_size, image_size, 1])\n",
        "x_train = x_train.astype('float32') / 255.0\n",
        "x_test = x_test.astype('float32') / 255.0"
      ],
      "metadata": {
        "id": "cD2Y2oknhpUx"
      },
      "execution_count": null,
      "outputs": []
    },
    {
      "cell_type": "markdown",
      "source": [
        "신경망 매개변수"
      ],
      "metadata": {
        "id": "nDT4Om_tks4J"
      }
    },
    {
      "cell_type": "code",
      "source": [
        "input_shape = (image_size, image_size,1)\n",
        "batch_size = 128\n",
        "kernel_size = 3\n",
        "pool_size = 2\n",
        "filters = 64\n",
        "dropout = 0.3"
      ],
      "metadata": {
        "id": "RSsF_9WNku5S"
      },
      "execution_count": null,
      "outputs": []
    },
    {
      "cell_type": "code",
      "source": [
        "inputs = Input(shape=input_shape)\n",
        "y = Conv2D(filters=filters, kernel_size=kernel_size, activation='relu')(inputs)\n",
        "y = MaxPooling2D()(y)\n",
        "y = Conv2D(filters=filters, kernel_size=kernel_size, activation='relu')(inputs)\n",
        "y = MaxPooling2D()(y)\n",
        "y = Conv2D(filters=filters, kernel_size=kernel_size, activation='relu')(inputs)\n",
        "y = Flatten()(y)\n",
        "y = Dropout(dropout)(y)"
      ],
      "metadata": {
        "id": "yHbK5jdYk8lI"
      },
      "execution_count": null,
      "outputs": []
    },
    {
      "cell_type": "code",
      "source": [
        "outputs = Dense(num_labels, activation='softmax')(y)"
      ],
      "metadata": {
        "id": "jdhwZrILpI9D"
      },
      "execution_count": null,
      "outputs": []
    },
    {
      "cell_type": "code",
      "source": [
        "model = Model(inputs=inputs, outputs=outputs)"
      ],
      "metadata": {
        "id": "FQzsMd27pTWY"
      },
      "execution_count": null,
      "outputs": []
    },
    {
      "cell_type": "code",
      "source": [
        "model.summary()"
      ],
      "metadata": {
        "colab": {
          "base_uri": "https://localhost:8080/"
        },
        "id": "Uro4WRd8lati",
        "outputId": "1a9c126d-2b50-49d1-fe0b-d9d596bb75e7"
      },
      "execution_count": null,
      "outputs": [
        {
          "output_type": "stream",
          "name": "stdout",
          "text": [
            "Model: \"model\"\n",
            "_________________________________________________________________\n",
            " Layer (type)                Output Shape              Param #   \n",
            "=================================================================\n",
            " input_2 (InputLayer)        [(None, 28, 28, 1)]       0         \n",
            "                                                                 \n",
            " conv2d_5 (Conv2D)           (None, 26, 26, 64)        640       \n",
            "                                                                 \n",
            " flatten_1 (Flatten)         (None, 43264)             0         \n",
            "                                                                 \n",
            " dropout_1 (Dropout)         (None, 43264)             0         \n",
            "                                                                 \n",
            " dense (Dense)               (None, 10)                432650    \n",
            "                                                                 \n",
            "=================================================================\n",
            "Total params: 433,290\n",
            "Trainable params: 433,290\n",
            "Non-trainable params: 0\n",
            "_________________________________________________________________\n"
          ]
        }
      ]
    },
    {
      "cell_type": "code",
      "source": [
        "model.compile(loss='categorical_crossentropy', optimizer='adam', metrics=['accuracy'])"
      ],
      "metadata": {
        "id": "QY6XoM8RlbZ4"
      },
      "execution_count": null,
      "outputs": []
    },
    {
      "cell_type": "code",
      "source": [
        "model.fit(x_train, y_train, validation_data=(x_test,y_test), epochs=20, batch_size = batch_size)"
      ],
      "metadata": {
        "colab": {
          "base_uri": "https://localhost:8080/"
        },
        "id": "-VbO6gw-lgfN",
        "outputId": "f64b7a50-56f1-4ff6-f471-9af3593d6c55"
      },
      "execution_count": null,
      "outputs": [
        {
          "output_type": "stream",
          "name": "stdout",
          "text": [
            "Epoch 1/20\n",
            "469/469 [==============================] - 62s 129ms/step - loss: 0.2331 - accuracy: 0.9333 - val_loss: 0.0936 - val_accuracy: 0.9736\n",
            "Epoch 2/20\n",
            "469/469 [==============================] - 62s 133ms/step - loss: 0.0810 - accuracy: 0.9770 - val_loss: 0.0656 - val_accuracy: 0.9806\n",
            "Epoch 3/20\n",
            "469/469 [==============================] - 61s 131ms/step - loss: 0.0592 - accuracy: 0.9829 - val_loss: 0.0593 - val_accuracy: 0.9816\n",
            "Epoch 4/20\n",
            "469/469 [==============================] - 62s 132ms/step - loss: 0.0472 - accuracy: 0.9858 - val_loss: 0.0676 - val_accuracy: 0.9793\n",
            "Epoch 5/20\n",
            "469/469 [==============================] - 61s 129ms/step - loss: 0.0398 - accuracy: 0.9875 - val_loss: 0.0599 - val_accuracy: 0.9808\n",
            "Epoch 6/20\n",
            "469/469 [==============================] - 62s 132ms/step - loss: 0.0324 - accuracy: 0.9897 - val_loss: 0.0603 - val_accuracy: 0.9815\n",
            "Epoch 7/20\n",
            "469/469 [==============================] - 63s 135ms/step - loss: 0.0289 - accuracy: 0.9904 - val_loss: 0.0607 - val_accuracy: 0.9805\n",
            "Epoch 8/20\n",
            "469/469 [==============================] - 60s 129ms/step - loss: 0.0243 - accuracy: 0.9923 - val_loss: 0.0621 - val_accuracy: 0.9816\n",
            "Epoch 9/20\n",
            "469/469 [==============================] - 63s 133ms/step - loss: 0.0215 - accuracy: 0.9936 - val_loss: 0.0639 - val_accuracy: 0.9823\n",
            "Epoch 10/20\n",
            "469/469 [==============================] - 61s 129ms/step - loss: 0.0201 - accuracy: 0.9936 - val_loss: 0.0632 - val_accuracy: 0.9818\n",
            "Epoch 11/20\n",
            "469/469 [==============================] - 62s 131ms/step - loss: 0.0164 - accuracy: 0.9948 - val_loss: 0.0622 - val_accuracy: 0.9826\n",
            "Epoch 12/20\n",
            "469/469 [==============================] - 60s 129ms/step - loss: 0.0153 - accuracy: 0.9951 - val_loss: 0.0647 - val_accuracy: 0.9824\n",
            "Epoch 13/20\n",
            "469/469 [==============================] - 60s 128ms/step - loss: 0.0123 - accuracy: 0.9962 - val_loss: 0.0661 - val_accuracy: 0.9823\n",
            "Epoch 14/20\n",
            "469/469 [==============================] - 61s 131ms/step - loss: 0.0125 - accuracy: 0.9961 - val_loss: 0.0745 - val_accuracy: 0.9810\n",
            "Epoch 15/20\n",
            "469/469 [==============================] - 60s 128ms/step - loss: 0.0113 - accuracy: 0.9963 - val_loss: 0.0650 - val_accuracy: 0.9826\n",
            "Epoch 16/20\n",
            "469/469 [==============================] - 61s 131ms/step - loss: 0.0095 - accuracy: 0.9972 - val_loss: 0.0708 - val_accuracy: 0.9830\n",
            "Epoch 17/20\n",
            "469/469 [==============================] - 60s 128ms/step - loss: 0.0088 - accuracy: 0.9972 - val_loss: 0.0720 - val_accuracy: 0.9819\n",
            "Epoch 18/20\n",
            "469/469 [==============================] - 61s 131ms/step - loss: 0.0070 - accuracy: 0.9979 - val_loss: 0.0785 - val_accuracy: 0.9812\n",
            "Epoch 19/20\n",
            "469/469 [==============================] - 60s 128ms/step - loss: 0.0075 - accuracy: 0.9975 - val_loss: 0.0774 - val_accuracy: 0.9812\n",
            "Epoch 20/20\n",
            "469/469 [==============================] - 60s 128ms/step - loss: 0.0070 - accuracy: 0.9978 - val_loss: 0.0793 - val_accuracy: 0.9824\n"
          ]
        },
        {
          "output_type": "execute_result",
          "data": {
            "text/plain": [
              "<keras.callbacks.History at 0x7f042787a9d0>"
            ]
          },
          "metadata": {},
          "execution_count": 21
        }
      ]
    },
    {
      "cell_type": "code",
      "source": [
        "loss, acc = model.evaluate(x_test, y_test, batch_size=batch_size)\n",
        "print(loss, acc)"
      ],
      "metadata": {
        "id": "PVw5Mx-TljLV",
        "colab": {
          "base_uri": "https://localhost:8080/"
        },
        "outputId": "724071c8-1555-4b13-a315-248e27fccae6"
      },
      "execution_count": null,
      "outputs": [
        {
          "output_type": "stream",
          "name": "stdout",
          "text": [
            "79/79 [==============================] - 2s 22ms/step - loss: 0.0793 - accuracy: 0.9824\n",
            "0.07927695661783218 0.9824000000953674\n"
          ]
        }
      ]
    }
  ]
}