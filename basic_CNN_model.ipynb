{
  "nbformat": 4,
  "nbformat_minor": 0,
  "metadata": {
    "colab": {
      "provenance": [],
      "collapsed_sections": []
    },
    "kernelspec": {
      "name": "python3",
      "display_name": "Python 3"
    },
    "language_info": {
      "name": "python"
    }
  },
  "cells": [
    {
      "cell_type": "code",
      "execution_count": null,
      "metadata": {
        "id": "Xb_Yy1AZkoxw"
      },
      "outputs": [],
      "source": [
        "import numpy as np\n",
        "from keras.models import Sequential\n",
        "from keras.layers import Dense, Activation, Dropout\n",
        "from keras.layers import Conv2D, MaxPooling2D, Flatten\n",
        "from keras.utils import to_categorical, plot_model\n",
        "from keras.datasets import mnist"
      ]
    },
    {
      "cell_type": "code",
      "source": [
        "(x_train, y_train), (x_test, y_test) = mnist.load_data()"
      ],
      "metadata": {
        "id": "X7lu6Go4gFf0"
      },
      "execution_count": null,
      "outputs": []
    },
    {
      "cell_type": "markdown",
      "source": [
        "레이블 개수 계산"
      ],
      "metadata": {
        "id": "tppYZiUkkoxy"
      }
    },
    {
      "cell_type": "code",
      "source": [
        "num_labels = len(np.unique(y_train))\n",
        "num_labels"
      ],
      "metadata": {
        "colab": {
          "base_uri": "https://localhost:8080/"
        },
        "outputId": "d032cab0-df18-4734-8ab5-9e7503a75cd2",
        "id": "ZqmPB_MOkoxz"
      },
      "execution_count": null,
      "outputs": [
        {
          "output_type": "execute_result",
          "data": {
            "text/plain": [
              "10"
            ]
          },
          "metadata": {},
          "execution_count": 28
        }
      ]
    },
    {
      "cell_type": "markdown",
      "source": [
        "원-핫 벡터로 변환"
      ],
      "metadata": {
        "id": "p_ykhko1gZkl"
      }
    },
    {
      "cell_type": "code",
      "source": [
        "y_train = to_categorical(y_train)\n",
        "y_test = to_categorical(y_test)"
      ],
      "metadata": {
        "id": "9rhJQ4KJgLZs"
      },
      "execution_count": null,
      "outputs": []
    },
    {
      "cell_type": "markdown",
      "source": [
        "이미지 차원"
      ],
      "metadata": {
        "id": "a10RGyfyhhw-"
      }
    },
    {
      "cell_type": "code",
      "source": [
        "image_size = x_train.shape[1]\n",
        "image_size"
      ],
      "metadata": {
        "colab": {
          "base_uri": "https://localhost:8080/"
        },
        "id": "WXwft5Ltg7KV",
        "outputId": "8ab81b84-a516-4bf4-f854-a652b662b6f8"
      },
      "execution_count": null,
      "outputs": [
        {
          "output_type": "execute_result",
          "data": {
            "text/plain": [
              "28"
            ]
          },
          "metadata": {},
          "execution_count": 30
        }
      ]
    },
    {
      "cell_type": "markdown",
      "source": [
        "크기 조정, 정규화"
      ],
      "metadata": {
        "id": "hyXPk790hx95"
      }
    },
    {
      "cell_type": "code",
      "source": [
        "x_train = np.reshape(x_train, [-1, image_size, image_size, 1])\n",
        "x_test = np.reshape(x_test, [-1, image_size, image_size, 1])\n",
        "x_train = x_train.astype('float32') / 255.0\n",
        "x_test = x_test.astype('float32') / 255.0"
      ],
      "metadata": {
        "id": "cD2Y2oknhpUx"
      },
      "execution_count": null,
      "outputs": []
    },
    {
      "cell_type": "markdown",
      "source": [
        "신경망 매개변수"
      ],
      "metadata": {
        "id": "nDT4Om_tks4J"
      }
    },
    {
      "cell_type": "code",
      "source": [
        "input_shape = (image_size, image_size,1)\n",
        "batch_size = 128\n",
        "kernel_size = 3\n",
        "pool_size = 2\n",
        "filters = 64\n",
        "dropout = 0.2"
      ],
      "metadata": {
        "id": "RSsF_9WNku5S"
      },
      "execution_count": null,
      "outputs": []
    },
    {
      "cell_type": "code",
      "source": [
        "model = Sequential()\n",
        "model.add(Conv2D(filters = filters, kernel_size=kernel_size, activation='relu', input_shape = input_shape))\n",
        "model.add(MaxPooling2D(pool_size))\n",
        "model.add(Conv2D(filters = filters, kernel_size=kernel_size, activation='relu', input_shape = input_shape))\n",
        "model.add(MaxPooling2D(pool_size))\n",
        "model.add(Conv2D(filters = filters, kernel_size=kernel_size, activation='relu', input_shape = input_shape))\n",
        "model.add(Flatten())\n",
        "model.add(Dropout(dropout))\n",
        "model.add(Dense(num_labels))\n",
        "model.add(Activation('softmax'))"
      ],
      "metadata": {
        "id": "yHbK5jdYk8lI"
      },
      "execution_count": null,
      "outputs": []
    },
    {
      "cell_type": "code",
      "source": [
        "model.summary()"
      ],
      "metadata": {
        "colab": {
          "base_uri": "https://localhost:8080/"
        },
        "id": "Uro4WRd8lati",
        "outputId": "3910b2fd-21b8-4795-858b-2949e14b4475"
      },
      "execution_count": null,
      "outputs": [
        {
          "output_type": "stream",
          "name": "stdout",
          "text": [
            "Model: \"sequential_2\"\n",
            "_________________________________________________________________\n",
            " Layer (type)                Output Shape              Param #   \n",
            "=================================================================\n",
            " conv2d_6 (Conv2D)           (None, 26, 26, 64)        640       \n",
            "                                                                 \n",
            " max_pooling2d_4 (MaxPooling  (None, 13, 13, 64)       0         \n",
            " 2D)                                                             \n",
            "                                                                 \n",
            " conv2d_7 (Conv2D)           (None, 11, 11, 64)        36928     \n",
            "                                                                 \n",
            " max_pooling2d_5 (MaxPooling  (None, 5, 5, 64)         0         \n",
            " 2D)                                                             \n",
            "                                                                 \n",
            " conv2d_8 (Conv2D)           (None, 3, 3, 64)          36928     \n",
            "                                                                 \n",
            " flatten_2 (Flatten)         (None, 576)               0         \n",
            "                                                                 \n",
            " dropout_1 (Dropout)         (None, 576)               0         \n",
            "                                                                 \n",
            " dense_1 (Dense)             (None, 10)                5770      \n",
            "                                                                 \n",
            " activation_1 (Activation)   (None, 10)                0         \n",
            "                                                                 \n",
            "=================================================================\n",
            "Total params: 80,266\n",
            "Trainable params: 80,266\n",
            "Non-trainable params: 0\n",
            "_________________________________________________________________\n"
          ]
        }
      ]
    },
    {
      "cell_type": "code",
      "source": [
        "model.compile(loss='categorical_crossentropy', optimizer='adam', metrics=['accuracy'])"
      ],
      "metadata": {
        "id": "QY6XoM8RlbZ4"
      },
      "execution_count": null,
      "outputs": []
    },
    {
      "cell_type": "code",
      "source": [
        "model.fit(x_train, y_train, epochs=10, batch_size = batch_size)"
      ],
      "metadata": {
        "colab": {
          "base_uri": "https://localhost:8080/"
        },
        "id": "-VbO6gw-lgfN",
        "outputId": "ef9e70d6-133e-432e-a565-8598a0abee6f"
      },
      "execution_count": null,
      "outputs": [
        {
          "output_type": "stream",
          "name": "stdout",
          "text": [
            "Epoch 1/10\n",
            "469/469 [==============================] - 86s 182ms/step - loss: 0.2697 - accuracy: 0.9178\n",
            "Epoch 2/10\n",
            "469/469 [==============================] - 83s 177ms/step - loss: 0.0675 - accuracy: 0.9786\n",
            "Epoch 3/10\n",
            "469/469 [==============================] - 84s 179ms/step - loss: 0.0475 - accuracy: 0.9851\n",
            "Epoch 4/10\n",
            "469/469 [==============================] - 84s 179ms/step - loss: 0.0395 - accuracy: 0.9872\n",
            "Epoch 5/10\n",
            "469/469 [==============================] - 83s 176ms/step - loss: 0.0328 - accuracy: 0.9896\n",
            "Epoch 6/10\n",
            "469/469 [==============================] - 85s 180ms/step - loss: 0.0289 - accuracy: 0.9912\n",
            "Epoch 7/10\n",
            "469/469 [==============================] - 83s 178ms/step - loss: 0.0247 - accuracy: 0.9920\n",
            "Epoch 8/10\n",
            "469/469 [==============================] - 85s 181ms/step - loss: 0.0221 - accuracy: 0.9930\n",
            "Epoch 9/10\n",
            "469/469 [==============================] - 85s 180ms/step - loss: 0.0208 - accuracy: 0.9934\n",
            "Epoch 10/10\n",
            "469/469 [==============================] - 83s 177ms/step - loss: 0.0180 - accuracy: 0.9944\n"
          ]
        },
        {
          "output_type": "execute_result",
          "data": {
            "text/plain": [
              "<keras.callbacks.History at 0x7f0463f64690>"
            ]
          },
          "metadata": {},
          "execution_count": 36
        }
      ]
    },
    {
      "cell_type": "code",
      "source": [
        "loss, acc = model.evaluate(x_test, y_test, batch_size=batch_size)\n",
        "print(loss, acc)"
      ],
      "metadata": {
        "colab": {
          "base_uri": "https://localhost:8080/"
        },
        "id": "PVw5Mx-TljLV",
        "outputId": "603eaad0-1ca5-42bf-dc57-fc88f2833766"
      },
      "execution_count": null,
      "outputs": [
        {
          "output_type": "stream",
          "name": "stdout",
          "text": [
            "79/79 [==============================] - 4s 44ms/step - loss: 0.0224 - accuracy: 0.9937\n",
            "0.02240227907896042 0.9937000274658203\n"
          ]
        }
      ]
    }
  ]
}