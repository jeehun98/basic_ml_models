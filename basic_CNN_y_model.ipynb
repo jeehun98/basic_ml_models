{
  "nbformat": 4,
  "nbformat_minor": 0,
  "metadata": {
    "colab": {
      "provenance": [],
      "collapsed_sections": []
    },
    "kernelspec": {
      "name": "python3",
      "display_name": "Python 3"
    },
    "language_info": {
      "name": "python"
    }
  },
  "cells": [
    {
      "cell_type": "code",
      "execution_count": null,
      "metadata": {
        "id": "G2x5_EEQp1ZL"
      },
      "outputs": [],
      "source": [
        "import numpy as np\n",
        "from keras.models import Sequential\n",
        "from keras.layers import Dense, Activation, Dropout, Input\n",
        "from keras.layers import Conv2D, MaxPooling2D, Flatten\n",
        "from keras.utils import to_categorical, plot_model\n",
        "from keras.datasets import mnist\n",
        "from keras.layers import concatenate\n",
        "from keras.models import Model"
      ]
    },
    {
      "cell_type": "code",
      "source": [
        "(x_train, y_train), (x_test, y_test) = mnist.load_data()"
      ],
      "metadata": {
        "id": "X7lu6Go4gFf0"
      },
      "execution_count": null,
      "outputs": []
    },
    {
      "cell_type": "markdown",
      "source": [
        "레이블 개수 계산"
      ],
      "metadata": {
        "id": "tppYZiUkkoxy"
      }
    },
    {
      "cell_type": "code",
      "source": [
        "num_labels = len(np.unique(y_train))\n",
        "num_labels"
      ],
      "metadata": {
        "colab": {
          "base_uri": "https://localhost:8080/"
        },
        "outputId": "c3dc7861-c480-4ca7-cff1-41f9b948a1db",
        "id": "ZqmPB_MOkoxz"
      },
      "execution_count": null,
      "outputs": [
        {
          "output_type": "execute_result",
          "data": {
            "text/plain": [
              "10"
            ]
          },
          "metadata": {},
          "execution_count": 39
        }
      ]
    },
    {
      "cell_type": "markdown",
      "source": [
        "원-핫 벡터로 변환"
      ],
      "metadata": {
        "id": "p_ykhko1gZkl"
      }
    },
    {
      "cell_type": "code",
      "source": [
        "y_train = to_categorical(y_train)\n",
        "y_test = to_categorical(y_test)"
      ],
      "metadata": {
        "id": "9rhJQ4KJgLZs"
      },
      "execution_count": null,
      "outputs": []
    },
    {
      "cell_type": "code",
      "source": [
        "image_size = x_train.shape[1]\n",
        "image_size"
      ],
      "metadata": {
        "colab": {
          "base_uri": "https://localhost:8080/"
        },
        "id": "WXwft5Ltg7KV",
        "outputId": "ab67adb3-5de3-4eaf-f68f-650a74745715"
      },
      "execution_count": null,
      "outputs": [
        {
          "output_type": "execute_result",
          "data": {
            "text/plain": [
              "28"
            ]
          },
          "metadata": {},
          "execution_count": 41
        }
      ]
    },
    {
      "cell_type": "markdown",
      "source": [
        "크기 조정, 정규화"
      ],
      "metadata": {
        "id": "hyXPk790hx95"
      }
    },
    {
      "cell_type": "code",
      "source": [
        "x_train = np.reshape(x_train,[-1, image_size, image_size, 1])\n",
        "x_test = np.reshape(x_test,[-1, image_size, image_size, 1])\n",
        "x_train = x_train.astype('float32') / 255\n",
        "x_test = x_test.astype('float32') / 255"
      ],
      "metadata": {
        "id": "cD2Y2oknhpUx"
      },
      "execution_count": null,
      "outputs": []
    },
    {
      "cell_type": "markdown",
      "source": [
        "신경망 매개변수"
      ],
      "metadata": {
        "id": "nDT4Om_tks4J"
      }
    },
    {
      "cell_type": "code",
      "source": [
        "input_shape = (image_size, image_size, 1)\n",
        "batch_size = 32\n",
        "kernel_size = 3\n",
        "dropout = 0.4\n",
        "n_filters = 32"
      ],
      "metadata": {
        "id": "RSsF_9WNku5S"
      },
      "execution_count": null,
      "outputs": []
    },
    {
      "cell_type": "markdown",
      "source": [
        "왼쪽 가지"
      ],
      "metadata": {
        "id": "eg-j2bhvqRp7"
      }
    },
    {
      "cell_type": "code",
      "source": [
        "left_inputs = Input(shape=input_shape)\n",
        "x = left_inputs\n",
        "filters = n_filters\n",
        "# 3 layers of Conv2D-Dropout-MaxPooling2D\n",
        "# number of filters doubles after each layer (32-64-128)\n",
        "for i in range(3):\n",
        "    x = Conv2D(filters=filters,\n",
        "               kernel_size=kernel_size,\n",
        "               padding='same',\n",
        "               activation='relu')(x)\n",
        "    x = Dropout(dropout)(x)\n",
        "    x = MaxPooling2D()(x)\n",
        "    filters *= 2"
      ],
      "metadata": {
        "id": "2TSSTUZiqRJj"
      },
      "execution_count": null,
      "outputs": []
    },
    {
      "cell_type": "markdown",
      "source": [
        "오른쪽 가지"
      ],
      "metadata": {
        "id": "qwEzEEthtoU6"
      }
    },
    {
      "cell_type": "code",
      "source": [
        "right_inputs = Input(shape=input_shape)\n",
        "y = right_inputs\n",
        "filters = n_filters\n",
        "# 3 layers of Conv2D-Dropout-MaxPooling2D\n",
        "# number of filters doubles after each layer (32-64-128)\n",
        "for i in range(3):\n",
        "    y = Conv2D(filters=filters,\n",
        "               kernel_size=kernel_size,\n",
        "               padding='same',\n",
        "               activation='relu',\n",
        "               dilation_rate=2)(y)\n",
        "    y = Dropout(dropout)(y)\n",
        "    y = MaxPooling2D()(y)\n",
        "    filters *= 2"
      ],
      "metadata": {
        "id": "mVUbMjcps722"
      },
      "execution_count": null,
      "outputs": []
    },
    {
      "cell_type": "markdown",
      "source": [
        "가지 병합"
      ],
      "metadata": {
        "id": "ZZOVPnpDt5UY"
      }
    },
    {
      "cell_type": "code",
      "source": [
        "# merge left and right branches outputs\n",
        "y = concatenate([x, y])\n",
        "# feature maps to vector before connecting to Dense \n",
        "y = Flatten()(y)\n",
        "y = Dropout(dropout)(y)\n",
        "outputs = Dense(num_labels, activation='softmax')(y)"
      ],
      "metadata": {
        "id": "5RnNVMVGt435"
      },
      "execution_count": null,
      "outputs": []
    },
    {
      "cell_type": "code",
      "source": [
        "model = Model([left_inputs, right_inputs], outputs)\n",
        "model.summary()"
      ],
      "metadata": {
        "colab": {
          "base_uri": "https://localhost:8080/"
        },
        "id": "wSyNBvpbt4cy",
        "outputId": "a6fd2859-df36-40be-c49c-3ecb2fa5d95d"
      },
      "execution_count": null,
      "outputs": [
        {
          "output_type": "stream",
          "name": "stdout",
          "text": [
            "Model: \"model_5\"\n",
            "__________________________________________________________________________________________________\n",
            " Layer (type)                   Output Shape         Param #     Connected to                     \n",
            "==================================================================================================\n",
            " input_11 (InputLayer)          [(None, 28, 28, 1)]  0           []                               \n",
            "                                                                                                  \n",
            " input_12 (InputLayer)          [(None, 28, 28, 1)]  0           []                               \n",
            "                                                                                                  \n",
            " conv2d_26 (Conv2D)             (None, 28, 28, 32)   320         ['input_11[0][0]']               \n",
            "                                                                                                  \n",
            " conv2d_29 (Conv2D)             (None, 28, 28, 32)   320         ['input_12[0][0]']               \n",
            "                                                                                                  \n",
            " dropout_27 (Dropout)           (None, 28, 28, 32)   0           ['conv2d_26[0][0]']              \n",
            "                                                                                                  \n",
            " dropout_30 (Dropout)           (None, 28, 28, 32)   0           ['conv2d_29[0][0]']              \n",
            "                                                                                                  \n",
            " max_pooling2d_26 (MaxPooling2D  (None, 14, 14, 32)  0           ['dropout_27[0][0]']             \n",
            " )                                                                                                \n",
            "                                                                                                  \n",
            " max_pooling2d_29 (MaxPooling2D  (None, 14, 14, 32)  0           ['dropout_30[0][0]']             \n",
            " )                                                                                                \n",
            "                                                                                                  \n",
            " conv2d_27 (Conv2D)             (None, 14, 14, 64)   18496       ['max_pooling2d_26[0][0]']       \n",
            "                                                                                                  \n",
            " conv2d_30 (Conv2D)             (None, 14, 14, 64)   18496       ['max_pooling2d_29[0][0]']       \n",
            "                                                                                                  \n",
            " dropout_28 (Dropout)           (None, 14, 14, 64)   0           ['conv2d_27[0][0]']              \n",
            "                                                                                                  \n",
            " dropout_31 (Dropout)           (None, 14, 14, 64)   0           ['conv2d_30[0][0]']              \n",
            "                                                                                                  \n",
            " max_pooling2d_27 (MaxPooling2D  (None, 7, 7, 64)    0           ['dropout_28[0][0]']             \n",
            " )                                                                                                \n",
            "                                                                                                  \n",
            " max_pooling2d_30 (MaxPooling2D  (None, 7, 7, 64)    0           ['dropout_31[0][0]']             \n",
            " )                                                                                                \n",
            "                                                                                                  \n",
            " conv2d_28 (Conv2D)             (None, 7, 7, 128)    73856       ['max_pooling2d_27[0][0]']       \n",
            "                                                                                                  \n",
            " conv2d_31 (Conv2D)             (None, 7, 7, 128)    73856       ['max_pooling2d_30[0][0]']       \n",
            "                                                                                                  \n",
            " dropout_29 (Dropout)           (None, 7, 7, 128)    0           ['conv2d_28[0][0]']              \n",
            "                                                                                                  \n",
            " dropout_32 (Dropout)           (None, 7, 7, 128)    0           ['conv2d_31[0][0]']              \n",
            "                                                                                                  \n",
            " max_pooling2d_28 (MaxPooling2D  (None, 3, 3, 128)   0           ['dropout_29[0][0]']             \n",
            " )                                                                                                \n",
            "                                                                                                  \n",
            " max_pooling2d_31 (MaxPooling2D  (None, 3, 3, 128)   0           ['dropout_32[0][0]']             \n",
            " )                                                                                                \n",
            "                                                                                                  \n",
            " concatenate_1 (Concatenate)    (None, 3, 3, 256)    0           ['max_pooling2d_28[0][0]',       \n",
            "                                                                  'max_pooling2d_31[0][0]']       \n",
            "                                                                                                  \n",
            " flatten_1 (Flatten)            (None, 2304)         0           ['concatenate_1[0][0]']          \n",
            "                                                                                                  \n",
            " dropout_33 (Dropout)           (None, 2304)         0           ['flatten_1[0][0]']              \n",
            "                                                                                                  \n",
            " dense_1 (Dense)                (None, 10)           23050       ['dropout_33[0][0]']             \n",
            "                                                                                                  \n",
            "==================================================================================================\n",
            "Total params: 208,394\n",
            "Trainable params: 208,394\n",
            "Non-trainable params: 0\n",
            "__________________________________________________________________________________________________\n"
          ]
        }
      ]
    },
    {
      "cell_type": "code",
      "source": [
        "model.compile(loss='categorical_crossentropy', optimizer='adam', metrics=['accuracy'])"
      ],
      "metadata": {
        "id": "QY6XoM8RlbZ4"
      },
      "execution_count": null,
      "outputs": []
    },
    {
      "cell_type": "code",
      "source": [
        "model.fit([x_train, x_train], y_train, validation_data=([x_test, x_test] ,y_test), epochs=20, batch_size = batch_size)"
      ],
      "metadata": {
        "colab": {
          "base_uri": "https://localhost:8080/"
        },
        "id": "-VbO6gw-lgfN",
        "outputId": "670bc006-f9b1-4237-fc76-6cdfea146d40"
      },
      "execution_count": null,
      "outputs": [
        {
          "output_type": "stream",
          "name": "stdout",
          "text": [
            "Epoch 1/20\n",
            "1875/1875 [==============================] - 283s 151ms/step - loss: 2.3017 - accuracy: 0.1115 - val_loss: 2.3013 - val_accuracy: 0.1135\n",
            "Epoch 2/20\n",
            "1875/1875 [==============================] - 279s 149ms/step - loss: 2.3014 - accuracy: 0.1124 - val_loss: 2.3011 - val_accuracy: 0.1135\n",
            "Epoch 3/20\n",
            "1875/1875 [==============================] - 278s 148ms/step - loss: 2.3013 - accuracy: 0.1124 - val_loss: 2.3010 - val_accuracy: 0.1135\n",
            "Epoch 4/20\n",
            "1875/1875 [==============================] - 279s 149ms/step - loss: 2.3014 - accuracy: 0.1124 - val_loss: 2.3011 - val_accuracy: 0.1135\n",
            "Epoch 5/20\n",
            "1875/1875 [==============================] - 279s 149ms/step - loss: 2.3013 - accuracy: 0.1124 - val_loss: 2.3011 - val_accuracy: 0.1135\n",
            "Epoch 6/20\n",
            "1875/1875 [==============================] - 285s 152ms/step - loss: 2.3014 - accuracy: 0.1124 - val_loss: 2.3011 - val_accuracy: 0.1135\n",
            "Epoch 7/20\n",
            "1875/1875 [==============================] - 279s 149ms/step - loss: 2.3013 - accuracy: 0.1124 - val_loss: 2.3012 - val_accuracy: 0.1135\n",
            "Epoch 8/20\n",
            "1875/1875 [==============================] - 279s 149ms/step - loss: 2.3013 - accuracy: 0.1124 - val_loss: 2.3010 - val_accuracy: 0.1135\n",
            "Epoch 9/20\n",
            "1875/1875 [==============================] - 282s 151ms/step - loss: 2.3014 - accuracy: 0.1124 - val_loss: 2.3010 - val_accuracy: 0.1135\n",
            "Epoch 10/20\n",
            "1875/1875 [==============================] - 280s 149ms/step - loss: 2.3013 - accuracy: 0.1124 - val_loss: 2.3010 - val_accuracy: 0.1135\n",
            "Epoch 11/20\n",
            "1875/1875 [==============================] - 281s 150ms/step - loss: 2.3013 - accuracy: 0.1124 - val_loss: 2.3011 - val_accuracy: 0.1135\n",
            "Epoch 12/20\n",
            "1875/1875 [==============================] - 278s 148ms/step - loss: 2.3013 - accuracy: 0.1124 - val_loss: 2.3010 - val_accuracy: 0.1135\n",
            "Epoch 13/20\n",
            "1875/1875 [==============================] - 278s 148ms/step - loss: 2.3013 - accuracy: 0.1124 - val_loss: 2.3009 - val_accuracy: 0.1135\n",
            "Epoch 14/20\n",
            "1875/1875 [==============================] - 279s 149ms/step - loss: 2.3013 - accuracy: 0.1124 - val_loss: 2.3011 - val_accuracy: 0.1135\n",
            "Epoch 15/20\n",
            "1875/1875 [==============================] - 279s 149ms/step - loss: 2.3013 - accuracy: 0.1124 - val_loss: 2.3013 - val_accuracy: 0.1135\n",
            "Epoch 16/20\n",
            "1875/1875 [==============================] - 278s 148ms/step - loss: 2.3014 - accuracy: 0.1124 - val_loss: 2.3011 - val_accuracy: 0.1135\n",
            "Epoch 17/20\n",
            "1875/1875 [==============================] - 280s 149ms/step - loss: 2.3013 - accuracy: 0.1124 - val_loss: 2.3011 - val_accuracy: 0.1135\n",
            "Epoch 18/20\n",
            "1875/1875 [==============================] - 281s 150ms/step - loss: 2.3013 - accuracy: 0.1124 - val_loss: 2.3010 - val_accuracy: 0.1135\n",
            "Epoch 19/20\n",
            "1875/1875 [==============================] - 277s 148ms/step - loss: 2.3013 - accuracy: 0.1124 - val_loss: 2.3011 - val_accuracy: 0.1135\n",
            "Epoch 20/20\n",
            "1875/1875 [==============================] - 278s 148ms/step - loss: 2.3013 - accuracy: 0.1124 - val_loss: 2.3012 - val_accuracy: 0.1135\n"
          ]
        },
        {
          "output_type": "execute_result",
          "data": {
            "text/plain": [
              "<keras.callbacks.History at 0x7fb1abe3d090>"
            ]
          },
          "metadata": {},
          "execution_count": 68
        }
      ]
    },
    {
      "cell_type": "code",
      "source": [
        "score = model.evaluate([x_test, x_test], y_test, batch_size=batch_size)\n",
        "score"
      ],
      "metadata": {
        "colab": {
          "base_uri": "https://localhost:8080/"
        },
        "id": "13eNG0GNvMWm",
        "outputId": "ed55ebae-273a-4af8-d784-89dd27352988"
      },
      "execution_count": null,
      "outputs": [
        {
          "output_type": "stream",
          "name": "stdout",
          "text": [
            "313/313 [==============================] - 11s 34ms/step - loss: 2.3012 - accuracy: 0.1135\n"
          ]
        },
        {
          "output_type": "execute_result",
          "data": {
            "text/plain": [
              "[2.301151752471924, 0.11349999904632568]"
            ]
          },
          "metadata": {},
          "execution_count": 69
        }
      ]
    },
    {
      "cell_type": "code",
      "source": [],
      "metadata": {
        "id": "UqiHzv5Nz_Q-"
      },
      "execution_count": null,
      "outputs": []
    }
  ]
}