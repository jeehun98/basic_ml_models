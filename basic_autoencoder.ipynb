{
  "nbformat": 4,
  "nbformat_minor": 0,
  "metadata": {
    "colab": {
      "provenance": [],
      "collapsed_sections": []
    },
    "kernelspec": {
      "name": "python3",
      "display_name": "Python 3"
    },
    "language_info": {
      "name": "python"
    }
  },
  "cells": [
    {
      "cell_type": "code",
      "execution_count": 1,
      "metadata": {
        "id": "9Jox3SUxvvd4"
      },
      "outputs": [],
      "source": [
        "import numpy as np\n",
        "from keras.layers import Dense, Input\n",
        "from keras.layers import Conv2D, Flatten\n",
        "from keras.layers import Reshape, Conv2DTranspose\n",
        "from keras.models import Model\n",
        "from keras.datasets import mnist\n",
        "from keras.utils import plot_model\n",
        "from keras import backend as K\n",
        "\n",
        "import matplotlib.pyplot as plt"
      ]
    },
    {
      "cell_type": "code",
      "source": [
        "(x_train, y_train), (x_test, y_test) = mnist.load_data()"
      ],
      "metadata": {
        "id": "X7lu6Go4gFf0",
        "colab": {
          "base_uri": "https://localhost:8080/"
        },
        "outputId": "83dbf120-a96f-4a9a-b43d-e880bb22a3d3"
      },
      "execution_count": 2,
      "outputs": [
        {
          "output_type": "stream",
          "name": "stdout",
          "text": [
            "Downloading data from https://storage.googleapis.com/tensorflow/tf-keras-datasets/mnist.npz\n",
            "11490434/11490434 [==============================] - 0s 0us/step\n"
          ]
        }
      ]
    },
    {
      "cell_type": "markdown",
      "source": [
        "레이블 개수 계산"
      ],
      "metadata": {
        "id": "tppYZiUkkoxy"
      }
    },
    {
      "cell_type": "code",
      "source": [
        "num_labels = len(np.unique(y_train))\n",
        "num_labels"
      ],
      "metadata": {
        "colab": {
          "base_uri": "https://localhost:8080/"
        },
        "outputId": "7d97c6cf-11b3-441d-ab7e-9e3771f37ede",
        "id": "ZqmPB_MOkoxz"
      },
      "execution_count": 3,
      "outputs": [
        {
          "output_type": "execute_result",
          "data": {
            "text/plain": [
              "10"
            ]
          },
          "metadata": {},
          "execution_count": 3
        }
      ]
    },
    {
      "cell_type": "markdown",
      "source": [
        "이미지 차원"
      ],
      "metadata": {
        "id": "a10RGyfyhhw-"
      }
    },
    {
      "cell_type": "code",
      "source": [
        "image_size = x_train.shape[1]\n",
        "image_size"
      ],
      "metadata": {
        "colab": {
          "base_uri": "https://localhost:8080/"
        },
        "id": "WXwft5Ltg7KV",
        "outputId": "02aaa175-d44e-4595-ba97-da868f5aff92"
      },
      "execution_count": 5,
      "outputs": [
        {
          "output_type": "execute_result",
          "data": {
            "text/plain": [
              "28"
            ]
          },
          "metadata": {},
          "execution_count": 5
        }
      ]
    },
    {
      "cell_type": "markdown",
      "source": [
        "크기 조정, 정규화"
      ],
      "metadata": {
        "id": "hyXPk790hx95"
      }
    },
    {
      "cell_type": "code",
      "source": [
        "x_train = np.reshape(x_train, [-1, image_size, image_size, 1])\n",
        "x_test = np.reshape(x_test, [-1, image_size, image_size, 1])\n",
        "x_train = x_train.astype('float32') / 255.0\n",
        "x_test = x_test.astype('float32') / 255.0"
      ],
      "metadata": {
        "id": "cD2Y2oknhpUx"
      },
      "execution_count": 6,
      "outputs": []
    },
    {
      "cell_type": "markdown",
      "source": [
        "네트워크 매개변수"
      ],
      "metadata": {
        "id": "se96pTUlxHzn"
      }
    },
    {
      "cell_type": "code",
      "source": [
        "input_shape = (image_size, image_size,1)\n",
        "batch_size = 32\n",
        "kernel_size = 3\n",
        "latent_dim = 16"
      ],
      "metadata": {
        "id": "eR6Pu2oVxHY4"
      },
      "execution_count": 7,
      "outputs": []
    },
    {
      "cell_type": "markdown",
      "source": [
        "cnn 계층당 필터의 인코더/디코더 개수"
      ],
      "metadata": {
        "id": "LZQIoWR1xRxG"
      }
    },
    {
      "cell_type": "code",
      "source": [
        "layer_filters = [32, 64]"
      ],
      "metadata": {
        "id": "UvoY8InZxPB5"
      },
      "execution_count": 8,
      "outputs": []
    },
    {
      "cell_type": "markdown",
      "source": [
        "오토인코더 모델 구성"
      ],
      "metadata": {
        "id": "ZAQvRQT-xUrJ"
      }
    },
    {
      "cell_type": "markdown",
      "source": [
        "인코더 모델 구성"
      ],
      "metadata": {
        "id": "bxSMpSPtxUvZ"
      }
    },
    {
      "cell_type": "code",
      "source": [
        "inputs = Input(shape = input_shape, name='encoder_input')"
      ],
      "metadata": {
        "id": "0BFjZxvYxYJ4"
      },
      "execution_count": 9,
      "outputs": []
    },
    {
      "cell_type": "code",
      "source": [
        "x = inputs\n",
        "for filters in layer_filters:\n",
        "  x = Conv2D(filters = filters, kernel_size=kernel_size, activation='relu', strides=2, padding='same')(x)"
      ],
      "metadata": {
        "id": "PUM0OrDw3j1C"
      },
      "execution_count": 11,
      "outputs": []
    },
    {
      "cell_type": "markdown",
      "source": [
        "디코더 모델 구성에 필요한 형상 정보\n"
      ],
      "metadata": {
        "id": "P6yBQBrz3xQE"
      }
    },
    {
      "cell_type": "markdown",
      "source": [
        "형상은 7,7,64 로 디코더에 의해 처리되면 28,28,1로 복구"
      ],
      "metadata": {
        "id": "pa7Z9oGP36mW"
      }
    },
    {
      "cell_type": "code",
      "source": [
        "shape = K.int_shape(x)"
      ],
      "metadata": {
        "id": "gWaAMOZ132AO"
      },
      "execution_count": 12,
      "outputs": []
    },
    {
      "cell_type": "code",
      "source": [
        "x = Flatten()(x)\n",
        "latent = Dense(latent_dim, name='latent_vector')(x)"
      ],
      "metadata": {
        "id": "VBLtVVZ74AlG"
      },
      "execution_count": 13,
      "outputs": []
    },
    {
      "cell_type": "code",
      "source": [
        "encoder = Model(inputs, latent, name='encoder')\n",
        "encoder.summary()"
      ],
      "metadata": {
        "id": "a8ajYH-V4FfM",
        "colab": {
          "base_uri": "https://localhost:8080/"
        },
        "outputId": "0f488aaa-f55f-4ac4-8203-0ca62fc355c2"
      },
      "execution_count": 14,
      "outputs": [
        {
          "output_type": "stream",
          "name": "stdout",
          "text": [
            "Model: \"encoder\"\n",
            "_________________________________________________________________\n",
            " Layer (type)                Output Shape              Param #   \n",
            "=================================================================\n",
            " encoder_input (InputLayer)  [(None, 28, 28, 1)]       0         \n",
            "                                                                 \n",
            " conv2d (Conv2D)             (None, 14, 14, 32)        320       \n",
            "                                                                 \n",
            " conv2d_1 (Conv2D)           (None, 7, 7, 64)          18496     \n",
            "                                                                 \n",
            " flatten (Flatten)           (None, 3136)              0         \n",
            "                                                                 \n",
            " latent_vector (Dense)       (None, 16)                50192     \n",
            "                                                                 \n",
            "=================================================================\n",
            "Total params: 69,008\n",
            "Trainable params: 69,008\n",
            "Non-trainable params: 0\n",
            "_________________________________________________________________\n"
          ]
        }
      ]
    },
    {
      "cell_type": "markdown",
      "source": [
        "디코더 모델 구성"
      ],
      "metadata": {
        "id": "rxOtjYae4K6n"
      }
    },
    {
      "cell_type": "code",
      "source": [
        "latent_inputs = Input(shape=(latent_dim,), name='decoder_input')\n",
        "x = Dense(shape[1] * shape[2] * shape[3])(latent_inputs)\n",
        "x = Reshape((shape[1], shape[2], shape[3]))(x)"
      ],
      "metadata": {
        "id": "amF8vSu24LxG"
      },
      "execution_count": 15,
      "outputs": []
    },
    {
      "cell_type": "code",
      "source": [
        "for filters in layer_filters[::-1]:\n",
        "  x = Conv2DTranspose(filters=filters, kernel_size=kernel_size, activation='relu', strides=2, padding='same')(x)"
      ],
      "metadata": {
        "id": "Uk8lxfVi6J4r"
      },
      "execution_count": 16,
      "outputs": []
    },
    {
      "cell_type": "code",
      "source": [
        "outputs = Conv2DTranspose(filters=1, kernel_size=kernel_size, activation='sigmoid', padding='same', name='decoder_output')(x)"
      ],
      "metadata": {
        "id": "HAAuHzob6UVC"
      },
      "execution_count": 17,
      "outputs": []
    },
    {
      "cell_type": "code",
      "source": [
        "decoder = Model(latent_inputs, outputs, name='decoder')\n",
        "decoder.summary()"
      ],
      "metadata": {
        "id": "v6KBPVMT58aQ",
        "colab": {
          "base_uri": "https://localhost:8080/"
        },
        "outputId": "32ccd964-2a8f-423b-9b2a-a11d08b76bcc"
      },
      "execution_count": 18,
      "outputs": [
        {
          "output_type": "stream",
          "name": "stdout",
          "text": [
            "Model: \"decoder\"\n",
            "_________________________________________________________________\n",
            " Layer (type)                Output Shape              Param #   \n",
            "=================================================================\n",
            " decoder_input (InputLayer)  [(None, 16)]              0         \n",
            "                                                                 \n",
            " dense (Dense)               (None, 3136)              53312     \n",
            "                                                                 \n",
            " reshape (Reshape)           (None, 7, 7, 64)          0         \n",
            "                                                                 \n",
            " conv2d_transpose (Conv2DTra  (None, 14, 14, 64)       36928     \n",
            " nspose)                                                         \n",
            "                                                                 \n",
            " conv2d_transpose_1 (Conv2DT  (None, 28, 28, 32)       18464     \n",
            " ranspose)                                                       \n",
            "                                                                 \n",
            " decoder_output (Conv2DTrans  (None, 28, 28, 1)        289       \n",
            " pose)                                                           \n",
            "                                                                 \n",
            "=================================================================\n",
            "Total params: 108,993\n",
            "Trainable params: 108,993\n",
            "Non-trainable params: 0\n",
            "_________________________________________________________________\n"
          ]
        }
      ]
    },
    {
      "cell_type": "code",
      "source": [
        "autoencoder = Model(inputs, decoder(encoder(inputs)), name='autoencoder')\n",
        "autoencoder.summary()"
      ],
      "metadata": {
        "id": "65KejkeA6i27",
        "colab": {
          "base_uri": "https://localhost:8080/"
        },
        "outputId": "fb75f0b8-6aba-4aa7-8758-facfddcce5f2"
      },
      "execution_count": 19,
      "outputs": [
        {
          "output_type": "stream",
          "name": "stdout",
          "text": [
            "Model: \"autoencoder\"\n",
            "_________________________________________________________________\n",
            " Layer (type)                Output Shape              Param #   \n",
            "=================================================================\n",
            " encoder_input (InputLayer)  [(None, 28, 28, 1)]       0         \n",
            "                                                                 \n",
            " encoder (Functional)        (None, 16)                69008     \n",
            "                                                                 \n",
            " decoder (Functional)        (None, 28, 28, 1)         108993    \n",
            "                                                                 \n",
            "=================================================================\n",
            "Total params: 178,001\n",
            "Trainable params: 178,001\n",
            "Non-trainable params: 0\n",
            "_________________________________________________________________\n"
          ]
        }
      ]
    },
    {
      "cell_type": "code",
      "source": [
        "autoencoder.compile(loss='mse', optimizer='adam')"
      ],
      "metadata": {
        "id": "PQJmQi6i6p3T"
      },
      "execution_count": 20,
      "outputs": []
    },
    {
      "cell_type": "code",
      "source": [
        "autoencoder.fit(x_train, x_train, validation_data=(x_test, x_test), epochs=1, batch_size=batch_size)"
      ],
      "metadata": {
        "id": "95Qahsck6v7c",
        "colab": {
          "base_uri": "https://localhost:8080/"
        },
        "outputId": "730b5b04-94b1-4258-df60-40ce01e62288"
      },
      "execution_count": 21,
      "outputs": [
        {
          "output_type": "stream",
          "name": "stdout",
          "text": [
            "1875/1875 [==============================] - 152s 81ms/step - loss: 0.0211 - val_loss: 0.0107\n"
          ]
        },
        {
          "output_type": "execute_result",
          "data": {
            "text/plain": [
              "<keras.callbacks.History at 0x7f531e53bad0>"
            ]
          },
          "metadata": {},
          "execution_count": 21
        }
      ]
    },
    {
      "cell_type": "code",
      "source": [
        "x_decoded = autoencoder.predict(x_test)"
      ],
      "metadata": {
        "id": "TdSGV30166DD",
        "colab": {
          "base_uri": "https://localhost:8080/"
        },
        "outputId": "909f1d00-4360-4895-e4ec-19cce9a82c63"
      },
      "execution_count": 22,
      "outputs": [
        {
          "output_type": "stream",
          "name": "stdout",
          "text": [
            "313/313 [==============================] - 6s 19ms/step\n"
          ]
        }
      ]
    },
    {
      "cell_type": "code",
      "source": [
        "imgs = np.concatenate([x_test[:8], x_decoded[:8]])\n",
        "imgs = imgs.reshape((4,4,image_size, image_size))\n",
        "imgs = np.vstack([np.,hstack(i) for i in imgs])\n",
        "plt.figure()\n",
        "plt.axis('off')\n",
        "plt.title('Inpu: 1st 2rows, Decoded: last 2 rows')\n",
        "plt.imshow(imgs, interpolation='none', cmap='gray')\n",
        "plt.show()"
      ],
      "metadata": {
        "id": "OaZ1ChZq6-Eq"
      },
      "execution_count": 22,
      "outputs": []
    },
    {
      "cell_type": "code",
      "source": [],
      "metadata": {
        "id": "Hi83gF531DHI"
      },
      "execution_count": null,
      "outputs": []
    }
  ]
}