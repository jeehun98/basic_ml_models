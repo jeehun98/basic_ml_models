{
  "nbformat": 4,
  "nbformat_minor": 0,
  "metadata": {
    "colab": {
      "provenance": [],
      "collapsed_sections": []
    },
    "kernelspec": {
      "name": "python3",
      "display_name": "Python 3"
    },
    "language_info": {
      "name": "python"
    }
  },
  "cells": [
    {
      "cell_type": "code",
      "execution_count": 3,
      "metadata": {
        "id": "gEo2Ecx38tYB"
      },
      "outputs": [],
      "source": [
        "from keras.layers import Dense, Input\n",
        "from keras.layers import Conv2D, Flatten\n",
        "from keras.layers import Reshape, Conv2DTranspose\n",
        "from keras.models import Model\n",
        "from keras import backend as K\n",
        "from keras.datasets import mnist\n",
        "import numpy as np\n",
        "import matplotlib.pyplot as plt\n",
        "from PIL import Image\n",
        "\n",
        "np.random.seed(42)"
      ]
    },
    {
      "cell_type": "code",
      "source": [
        "(x_train, _), (x_test, _) = mnist.load_data()"
      ],
      "metadata": {
        "id": "-QKhGhi79ycs",
        "colab": {
          "base_uri": "https://localhost:8080/"
        },
        "outputId": "a7091e38-0cab-48dd-d24b-84f5438bed5f"
      },
      "execution_count": 4,
      "outputs": [
        {
          "output_type": "stream",
          "name": "stdout",
          "text": [
            "Downloading data from https://storage.googleapis.com/tensorflow/tf-keras-datasets/mnist.npz\n",
            "11490434/11490434 [==============================] - 0s 0us/step\n"
          ]
        }
      ]
    },
    {
      "cell_type": "code",
      "source": [
        "image_size = x_train.shape[1]"
      ],
      "metadata": {
        "id": "rrYRyJpe9ym9"
      },
      "execution_count": 5,
      "outputs": []
    },
    {
      "cell_type": "code",
      "source": [
        "x_train = np.reshape(x_train,[-1, image_size, image_size, 1])\n",
        "x_test = np.reshape(x_test,[-1, image_size, image_size, 1])\n",
        "x_train = x_train.astype('float32') / 255\n",
        "x_test = x_test.astype('float32') / 255"
      ],
      "metadata": {
        "id": "QOAxs1hG92tI"
      },
      "execution_count": 6,
      "outputs": []
    },
    {
      "cell_type": "code",
      "source": [
        "noise = np.random.normal(loc=0.5, scale=0.5, size=x_train.shape)\n",
        "x_train_noisy = x_train + noise\n",
        "\n",
        "noise = np.random.normal(loc=0.5, scale=0.5, size=x_test.shape)\n",
        "x_test_noisy = x_test + noise"
      ],
      "metadata": {
        "id": "UonhU1qf94k8"
      },
      "execution_count": 7,
      "outputs": []
    },
    {
      "cell_type": "code",
      "source": [
        "x_train_noisy = np.clip(x_train_noisy, 0., 1.)\n",
        "x_test_noisy = np.clip(x_test_noisy, 0., 1.)"
      ],
      "metadata": {
        "id": "XhOdHc5m-RfI"
      },
      "execution_count": 8,
      "outputs": []
    },
    {
      "cell_type": "code",
      "source": [
        "input_shape = (image_size, image_size, 1)\n",
        "batch_size = 32\n",
        "kernel_size = 3\n",
        "latent_dim = 16"
      ],
      "metadata": {
        "id": "HA0ScGUO-XbX"
      },
      "execution_count": 9,
      "outputs": []
    },
    {
      "cell_type": "code",
      "source": [
        "layer_filters = [32, 64]"
      ],
      "metadata": {
        "id": "mzi9oQMe-gJk"
      },
      "execution_count": 10,
      "outputs": []
    },
    {
      "cell_type": "code",
      "source": [
        "inputs = Input(shape=input_shape, name='encoder_input')\n",
        "x = inputs"
      ],
      "metadata": {
        "id": "mH5LKDXL-hmV"
      },
      "execution_count": 11,
      "outputs": []
    },
    {
      "cell_type": "code",
      "source": [
        "for filters in layer_filters:\n",
        "  x = Conv2D(filters=filters, kernel_size=kernel_size, strides=2, activation='relu', padding='same')(x)"
      ],
      "metadata": {
        "id": "0siPzwTh-mbk"
      },
      "execution_count": 12,
      "outputs": []
    },
    {
      "cell_type": "code",
      "source": [
        "shape = K.int_shape(x)"
      ],
      "metadata": {
        "id": "mVc0RD90-5CH"
      },
      "execution_count": 13,
      "outputs": []
    },
    {
      "cell_type": "code",
      "source": [
        "x = Flatten()(x)\n",
        "latent = Dense(latent_dim, name='latent_vector')(x)"
      ],
      "metadata": {
        "id": "-ic1Utb3-8Lf"
      },
      "execution_count": 14,
      "outputs": []
    },
    {
      "cell_type": "code",
      "source": [
        "encoder = Model(inputs, latent, name='encoder')\n",
        "encoder.summary()"
      ],
      "metadata": {
        "id": "1aA0KtWD_BEd",
        "colab": {
          "base_uri": "https://localhost:8080/"
        },
        "outputId": "a40637a9-bd7f-4de2-a8e3-e064d16a4c7c"
      },
      "execution_count": 15,
      "outputs": [
        {
          "output_type": "stream",
          "name": "stdout",
          "text": [
            "Model: \"encoder\"\n",
            "_________________________________________________________________\n",
            " Layer (type)                Output Shape              Param #   \n",
            "=================================================================\n",
            " encoder_input (InputLayer)  [(None, 28, 28, 1)]       0         \n",
            "                                                                 \n",
            " conv2d (Conv2D)             (None, 14, 14, 32)        320       \n",
            "                                                                 \n",
            " conv2d_1 (Conv2D)           (None, 7, 7, 64)          18496     \n",
            "                                                                 \n",
            " flatten (Flatten)           (None, 3136)              0         \n",
            "                                                                 \n",
            " latent_vector (Dense)       (None, 16)                50192     \n",
            "                                                                 \n",
            "=================================================================\n",
            "Total params: 69,008\n",
            "Trainable params: 69,008\n",
            "Non-trainable params: 0\n",
            "_________________________________________________________________\n"
          ]
        }
      ]
    },
    {
      "cell_type": "code",
      "source": [
        "latent_inputs = Input(shape=(latent_dim,), name='decoder_input')\n",
        "x = Dense(shape[1] * shape[2] * shape[3])(latent_inputs)\n",
        "x = Reshape((shape[1], shape[2], shape[3]))(x)"
      ],
      "metadata": {
        "id": "ZcW7VpRP_FvD"
      },
      "execution_count": 16,
      "outputs": []
    },
    {
      "cell_type": "code",
      "source": [
        "for filters in layer_filters[::-1]:\n",
        "  x = Conv2DTranspose(filters=filters, kernel_size=kernel_size, strides=2, activation='relu', padding='same')(x)"
      ],
      "metadata": {
        "id": "cCU2srXY_T0r"
      },
      "execution_count": 18,
      "outputs": []
    },
    {
      "cell_type": "code",
      "source": [
        "outputs = Conv2DTranspose(filters=1, kernel_size=kernel_size, padding='same', activation='sigmoid', name='decoder_output')(x)"
      ],
      "metadata": {
        "id": "H3OVrvo7_dcd"
      },
      "execution_count": 20,
      "outputs": []
    },
    {
      "cell_type": "code",
      "source": [
        "decoder = Model(latent_inputs, outputs, name='decoder')\n",
        "decoder.summary()"
      ],
      "metadata": {
        "id": "_nqWg-rA_lPR",
        "colab": {
          "base_uri": "https://localhost:8080/"
        },
        "outputId": "f8c549fd-d05c-4b2d-dd73-da0081f5bc9f"
      },
      "execution_count": 21,
      "outputs": [
        {
          "output_type": "stream",
          "name": "stdout",
          "text": [
            "Model: \"decoder\"\n",
            "_________________________________________________________________\n",
            " Layer (type)                Output Shape              Param #   \n",
            "=================================================================\n",
            " decoder_input (InputLayer)  [(None, 16)]              0         \n",
            "                                                                 \n",
            " dense (Dense)               (None, 3136)              53312     \n",
            "                                                                 \n",
            " reshape (Reshape)           (None, 7, 7, 64)          0         \n",
            "                                                                 \n",
            " conv2d_transpose (Conv2DTra  (None, 14, 14, 64)       36928     \n",
            " nspose)                                                         \n",
            "                                                                 \n",
            " conv2d_transpose_1 (Conv2DT  (None, 28, 28, 32)       18464     \n",
            " ranspose)                                                       \n",
            "                                                                 \n",
            " decoder_output (Conv2DTrans  (None, 28, 28, 1)        289       \n",
            " pose)                                                           \n",
            "                                                                 \n",
            "=================================================================\n",
            "Total params: 108,993\n",
            "Trainable params: 108,993\n",
            "Non-trainable params: 0\n",
            "_________________________________________________________________\n"
          ]
        }
      ]
    },
    {
      "cell_type": "code",
      "source": [
        "autoencoder = Model(inputs, decoder(encoder(inputs)), name='autoencoder')\n",
        "autoencoder.summary()"
      ],
      "metadata": {
        "id": "UIKZT0R3_qYo",
        "colab": {
          "base_uri": "https://localhost:8080/"
        },
        "outputId": "aec1662f-7831-4aa4-8dc0-e1a0d84f1f4e"
      },
      "execution_count": 22,
      "outputs": [
        {
          "output_type": "stream",
          "name": "stdout",
          "text": [
            "Model: \"autoencoder\"\n",
            "_________________________________________________________________\n",
            " Layer (type)                Output Shape              Param #   \n",
            "=================================================================\n",
            " encoder_input (InputLayer)  [(None, 28, 28, 1)]       0         \n",
            "                                                                 \n",
            " encoder (Functional)        (None, 16)                69008     \n",
            "                                                                 \n",
            " decoder (Functional)        (None, 28, 28, 1)         108993    \n",
            "                                                                 \n",
            "=================================================================\n",
            "Total params: 178,001\n",
            "Trainable params: 178,001\n",
            "Non-trainable params: 0\n",
            "_________________________________________________________________\n"
          ]
        }
      ]
    },
    {
      "cell_type": "code",
      "source": [
        "autoencoder.compile(loss='mse', optimizer='adam')"
      ],
      "metadata": {
        "id": "GqNm9gzl_xyi"
      },
      "execution_count": 23,
      "outputs": []
    },
    {
      "cell_type": "code",
      "source": [
        "autoencoder.fit(x_train_noisy, x_train, validation_data=(x_test_noisy, x_test), epochs=10, batch_size=batch_size)"
      ],
      "metadata": {
        "id": "jx8sFtH1_4Jm",
        "colab": {
          "base_uri": "https://localhost:8080/"
        },
        "outputId": "f5b6e95a-f2d1-46b8-d01a-38e23dc68726"
      },
      "execution_count": 24,
      "outputs": [
        {
          "output_type": "stream",
          "name": "stdout",
          "text": [
            "Epoch 1/10\n",
            "1875/1875 [==============================] - 124s 65ms/step - loss: 0.0357 - val_loss: 0.0206\n",
            "Epoch 2/10\n",
            "1875/1875 [==============================] - 119s 64ms/step - loss: 0.0194 - val_loss: 0.0182\n",
            "Epoch 3/10\n",
            "1875/1875 [==============================] - 123s 65ms/step - loss: 0.0179 - val_loss: 0.0175\n",
            "Epoch 4/10\n",
            "1875/1875 [==============================] - 125s 67ms/step - loss: 0.0171 - val_loss: 0.0170\n",
            "Epoch 5/10\n",
            "1875/1875 [==============================] - 128s 68ms/step - loss: 0.0166 - val_loss: 0.0165\n",
            "Epoch 6/10\n",
            "1875/1875 [==============================] - 129s 69ms/step - loss: 0.0162 - val_loss: 0.0165\n",
            "Epoch 7/10\n",
            "1875/1875 [==============================] - 129s 69ms/step - loss: 0.0159 - val_loss: 0.0161\n",
            "Epoch 8/10\n",
            "1875/1875 [==============================] - 129s 69ms/step - loss: 0.0157 - val_loss: 0.0160\n",
            "Epoch 9/10\n",
            "1875/1875 [==============================] - 131s 70ms/step - loss: 0.0155 - val_loss: 0.0157\n",
            "Epoch 10/10\n",
            "1875/1875 [==============================] - 132s 70ms/step - loss: 0.0153 - val_loss: 0.0158\n"
          ]
        },
        {
          "output_type": "execute_result",
          "data": {
            "text/plain": [
              "<keras.callbacks.History at 0x7feb91816bd0>"
            ]
          },
          "metadata": {},
          "execution_count": 24
        }
      ]
    },
    {
      "cell_type": "code",
      "source": [
        "x_decoded = autoencoder.predict(x_test_noisy)"
      ],
      "metadata": {
        "id": "cU2C_T6M__2Z",
        "colab": {
          "base_uri": "https://localhost:8080/"
        },
        "outputId": "136e4640-3075-48be-cd9f-243ec5bb9aed"
      },
      "execution_count": 25,
      "outputs": [
        {
          "output_type": "stream",
          "name": "stdout",
          "text": [
            "313/313 [==============================] - 7s 21ms/step\n"
          ]
        }
      ]
    }
  ]
}